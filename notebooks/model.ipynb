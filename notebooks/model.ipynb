{
 "cells": [
  {
   "cell_type": "code",
   "execution_count": 2,
   "id": "5b80af7c",
   "metadata": {},
   "outputs": [],
   "source": [
    "from labeling.model import make_dataloaders, train_model, get_model"
   ]
  },
  {
   "cell_type": "code",
   "execution_count": 3,
   "id": "22c84296",
   "metadata": {},
   "outputs": [],
   "source": [
    "model, criterion, optimizer, scheduler = get_model(2)"
   ]
  },
  {
   "cell_type": "code",
   "execution_count": 4,
   "id": "fc68ec75",
   "metadata": {},
   "outputs": [],
   "source": [
    "from sklearn.model_selection import train_test_split"
   ]
  },
  {
   "cell_type": "code",
   "execution_count": null,
   "id": "55afe185",
   "metadata": {},
   "outputs": [],
   "source": [
    "dataset = load_dataset(\n",
    "            \"imagefolder\",\n",
    "            data_dir=img_dir,\n",
    "            split=\"train\"\n",
    "        )"
   ]
  }
 ],
 "metadata": {
  "kernelspec": {
   "display_name": "conny_ml",
   "language": "python",
   "name": "conny_ml"
  },
  "language_info": {
   "codemirror_mode": {
    "name": "ipython",
    "version": 3
   },
   "file_extension": ".py",
   "mimetype": "text/x-python",
   "name": "python",
   "nbconvert_exporter": "python",
   "pygments_lexer": "ipython3",
   "version": "3.9.5"
  }
 },
 "nbformat": 4,
 "nbformat_minor": 5
}
